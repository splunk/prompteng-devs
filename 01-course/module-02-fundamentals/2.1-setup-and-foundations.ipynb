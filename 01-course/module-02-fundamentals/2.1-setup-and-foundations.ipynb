{
  "cells": [
    {
      "cell_type": "markdown",
      "metadata": {},
      "source": [
        "# Section 2.1: Setup and Foundations"
      ]
    },
    {
      "cell_type": "markdown",
      "metadata": {},
      "source": [
        "| **Aspect** | **Details** |\n",
        "|-------------|-------------|\n",
        "| **Goal** | Master environment setup, breakpoint workflows, and Tactic 0 (clear instructions). |\n",
        "| **Time** | ~15 minutes |\n",
        "| **Prerequisites** | Module 1 completion, Python 3.8+, IDE with notebook support, API access (GitHub Copilot, CircuIT, or OpenAI) |\n",
        "| **Next Steps** | [Section 2.2: Roles and Structure](./2.2-roles-and-structure.ipynb) |\n",
        "\n",
        "---\n",
        "\n",
        "## 🚀 Ready to Start?\n",
        "\n",
        "<div style=\"padding:12px; background:#fee2e2; border-radius:6px; border-left:4px solid #ef4444; color:#991b1b;\">\n",
        "<strong>⚠️ Important:</strong><br><br>\n",
        "This notebook assumes you've finished Module 1 and have API keys ready. Run the cells below to confirm everything is configured.\n",
        "</div>"
      ]
    },
    {
      "cell_type": "markdown",
      "metadata": {},
      "source": [
        "<div style=\"padding:16px; background:#dcfce7; border-radius:6px; border-left:4px solid #22c55e; color:#14532d;\">\n",
        "<strong>📚 Module 2 Overview</strong><br><br>\n",
        "Module 2 is structured as five linked sections (~90-120 minutes total). Each section builds on the last, so complete them in order.\n",
        "\n",
        "<strong>Core Sections</strong><br>\n",
        "1. <a href=\"./2.1-setup-and-foundations.ipynb\">Section 2.1 - Setup and Foundations</a> (this notebook) - 15 minutes<br>\n",
        "&nbsp;&nbsp;&nbsp;Configure dependencies, provider access, and master Tactic 0 (clear instructions).<br>\n",
        "2. <a href=\"./2.2-roles-and-structure.ipynb\">Section 2.2 - Roles and Structure</a> - 20 minutes<br>\n",
        "&nbsp;&nbsp;&nbsp;Turn the AI into domain experts and organize complex inputs with XML delimiters.<br>\n",
        "3. <a href=\"./2.3-patterns-for-reasoning.ipynb\">Section 2.3 - Patterns for Reasoning</a> - 25 minutes<br>\n",
        "&nbsp;&nbsp;&nbsp;Layer few-shot exemplars, chain-of-thought scaffolds, and reference citations.<br>\n",
        "4. <a href=\"./2.4-automation-and-evaluation.ipynb\">Section 2.4 - Automation and Evaluation</a> - 25 minutes<br>\n",
        "&nbsp;&nbsp;&nbsp;Build prompt chains, self-correction loops, and LLM-as-judge workflows.<br><br>\n",
        "\n",
        "<strong>Hands-On Practice</strong><br>\n",
        "\n",
        "5. <a href=\"./2.5-hands-on-practice.ipynb\">Section 2.5 – Hands-On Practice</a> — 20 minutes<br>\n",
        "&nbsp;&nbsp;&nbsp;Apply all eight tactics independently in unguided practice activities.<br><br>\n",
        "<strong>💡 Recommended Path:</strong> Complete Sections 2.1–2.4 first, then use Section 2.5 for hands-on practice and reflection.\n",
        "</div>"
      ]
    },
    {
      "cell_type": "markdown",
      "metadata": {},
      "source": [
        "## 🔧 Setup: Environment Configuration\n",
        "\n",
        "### Step 1: Install Required Dependencies\n"
      ]
    },
    {
      "cell_type": "markdown",
      "metadata": {},
      "source": [
        "\n",
        "Let's start by installing the packages we need for this tutorial.\n",
        "\n",
        "Run the cell below. You should see a success message when installation completes:"
      ]
    },
    {
      "cell_type": "code",
      "execution_count": null,
      "metadata": {},
      "outputs": [],
      "source": [
        "# Install required packages for Module 2\n",
        "import subprocess\n",
        "import sys\n",
        "\n",
        "def install_requirements():\n",
        "    try:\n",
        "        # Install from requirements.txt\n",
        "        subprocess.check_call([sys.executable, \"-m\", \"pip\", \"install\", \"-q\", \"-r\", \"requirements.txt\"])\n",
        "        print(\"✅ SUCCESS! Module 2 dependencies installed successfully.\")\n",
        "        print(\"📦 Ready for: openai, anthropic, python-dotenv, requests\")\n",
        "    except subprocess.CalledProcessError as e:\n",
        "        print(f\"❌ Installation failed: {e}\")\n",
        "        print(\"💡 Try running: pip install openai anthropic python-dotenv requests\")\n",
        "\n",
        "install_requirements()\n"
      ]
    },
    {
      "cell_type": "markdown",
      "metadata": {},
      "source": [
        "### Step 2: Connect to AI Model\n",
        "\n",
        "We moved provider configuration into `setup_utils.py` so every notebook can reuse the same helpers.\n",
        "Run the cell below to load the shared utilities, confirm your active provider, and expose helper functions for switching providers when needed.\n",
        "\n",
        "**What this does:**\n",
        "- imports `get_chat_completion` so the rest of the module can call the AI\n",
        "- prints the current provider and default model\n",
        "- exposes helper functions (`set_provider`, `configure_openai_from_env`, `configure_circuit_from_env`) for advanced setups\n",
        "\n",
        "<div style=\"padding:12px; background:#fef3c7; border-radius:6px; border-left:4px solid #f59e0b; color:#78350f;\">\n",
        "<style>\n",
        "code {\n",
        "  font-family: Consolas,\"courier new\";\n",
        "  color:rgb(238, 13, 13);\n",
        "  background-color: #f1f1f1;\n",
        "  padding: 2px;\n",
        "  font-size: 110%;\n",
        "}\n",
        "</style>\n",
        "<strong>💡 Tip:</strong><br><br>By default we use the GitHub Copilot proxy running on <code>http://localhost:7711</code>. If you need direct OpenAI or CircuIT access, configure it with the helper functions after this cell.\n",
        "</div>"
      ]
    },
    {
      "cell_type": "code",
      "execution_count": null,
      "metadata": {},
      "outputs": [],
      "source": [
        "from setup_utils import (\n",
        "    AVAILABLE_PROVIDERS,\n",
        "    configure_circuit_from_env,\n",
        "    configure_openai_from_env,\n",
        "    get_chat_completion,\n",
        "    get_default_model,\n",
        "    get_provider,\n",
        "    set_provider,\n",
        "    test_connection,\n",
        ")\n",
        "\n",
        "print('✅ Module 2 setup utilities loaded.')\n",
        "print(f'🤖 Current provider: {get_provider().upper()} (default model: {get_default_model()})')\n",
        "print('📡 Available providers:', ', '.join(name.upper() for name in AVAILABLE_PROVIDERS))\n"
      ]
    },
    {
      "cell_type": "markdown",
      "metadata": {},
      "source": [
        "#### Optional: Switch providers or configure direct APIs\n",
        "\n",
        "- To switch for this session, run `set_provider(\"openai\")`, `set_provider(\"claude\")`, or `set_provider(\"circuit\")`.\n",
        "- To use direct OpenAI access, call `configure_openai_from_env()` after saving your API key to `.env`.\n",
        "- To use CircuIT (Cisco Azure OpenAI), call `configure_circuit_from_env()` and then `set_provider(\"circuit\")`.\n"
      ]
    },
    {
      "cell_type": "code",
      "execution_count": null,
      "metadata": {},
      "outputs": [],
      "source": [
        "# Example usage (uncomment the line you need)\n",
        "# set_provider(\"openai\")\n",
        "# configure_openai_from_env()\n",
        "# configure_circuit_from_env(); set_provider(\"circuit\")\n"
      ]
    },
    {
      "cell_type": "markdown",
      "metadata": {},
      "source": [
        "### Step 3: Test Connection\n",
        "\n",
        "Let's test that everything is working before we begin:\n",
        "\n",
        "<div style=\"padding:12px; background:#fef3c7; border-radius:6px; border-left:4px solid #f59e0b; color:#78350f;\">\n",
        "<strong>💡 Tip:</strong><br><br>If you see long AI responses and the output shows \"Output is truncated. View as a scrollable element\" - <strong>click that link</strong> to see the full response in a scrollable view!\n",
        "</div>"
      ]
    },
    {
      "cell_type": "code",
      "execution_count": null,
      "metadata": {},
      "outputs": [],
      "source": [
        "success, response = test_connection()\n",
        "\n",
        "if success:\n",
        "    print('🎉 Module 2 setup verified! Ready to learn core techniques.')\n",
        "else:\n",
        "    print('⚠️ The connection responded unexpectedly. If you changed providers, double-check credentials above.')\n"
      ]
    },
    {
      "cell_type": "markdown",
      "metadata": {},
      "source": [
        "## ✅ Setup Complete!\n",
        "\n",
        "<div style=\"background:#dcfce7; border-left:4px solid #22c55e; padding:20px; border-radius:8px; margin:24px 0; color:#000000;\">\n",
        "<style>\n",
        "code {\n",
        "  font-family: Consolas,\"courier new\";\n",
        "  color:rgb(238, 13, 13);\n",
        "  background-color: #f1f1f1;\n",
        "  padding: 2px;\n",
        "  font-size: 110%;\n",
        "}\n",
        "</style>\n",
        "<strong style=\"color:#166534;\">🎉 You're ready to go!</strong><br><br>\n",
        "You've installed dependencies, loaded shared helpers, and verified connectivity.\n",
        "<br><br>\n",
        "✅ <strong style=\"color:#166534;\">AI connection</strong> responding as expected<br>\n",
        "✅ <strong style=\"color:#166534;\">Shared utilities</strong> imported (<code>setup_utils.py</code>)<br>\n",
        "✅ <strong style=\"color:#166534;\">Provider helpers</strong> ready for OpenAI, Claude, or CircuIT<br>\n",
        "✅ <strong style=\"color:#166534;\">Breakpoints mapped</strong> so you can pause confidently<br>\n",
        "</div>\n"
      ]
    },
    {
      "cell_type": "markdown",
      "metadata": {},
      "source": [
        "---\n",
        "\n",
        "## 🎯 Core Prompt Engineering Techniques\n",
        "\n",
        "### Introduction: The Art of Prompt Engineering\n",
        "\n",
        "#### 🚀 Ready to Transform Your AI Interactions?\n",
        "\n",
        "You've successfully set up your environment and tested the connection. Now comes the exciting part - **learning the tactical secrets** that separate amateur prompt writers from AI power users.\n",
        "\n",
        "Think of what you've accomplished so far as **laying the foundation** of a house. Now we're about to build the **architectural masterpiece** that will revolutionize how you work with AI assistants.\n",
        "\n",
        "\n",
        "#### 👨‍🏫 What You're About to Master\n",
        "\n",
        "Before diving into advanced techniques, there's one fundamental skill you must master: **writing clear instructions**. This is the foundation upon which all other tactics are built. Just as a house needs a solid foundation before adding walls and a roof, effective prompting requires clarity before applying sophisticated techniques.\n",
        "\n",
        "In the sections that follow, you'll discover **eight core tactics** that professional developers use to get consistently excellent results from AI:\n",
        "\n",
        "<div style=\"display: grid; grid-template-columns: repeat(4, 1fr); gap: 16px; margin: 20px 0;\">\n",
        "\n",
        "<div style=\"background: #f8fafc; border: 2px solid #e2e8f0; border-radius: 8px; padding: 16px; text-align: center; color: #000000;\">\n",
        "<strong>🎭 Role Prompting</strong><br>\n",
        "<em>Transform AI into specialized experts</em>\n",
        "</div>\n",
        "\n",
        "<div style=\"background: #f8fafc; border: 2px solid #e2e8f0; border-radius: 8px; padding: 16px; text-align: center; color: #000000;\">\n",
        "<strong>📋 Structured Inputs</strong><br>\n",
        "<em>Organize complex scenarios with precision</em>\n",
        "</div>\n",
        "\n",
        "<div style=\"background: #f8fafc; border: 2px solid #e2e8f0; border-radius: 8px; padding: 16px; text-align: center; color: #000000;\">\n",
        "<strong>📚 Few-Shot Examples</strong><br>\n",
        "<em>Teach AI your preferred style</em>\n",
        "</div>\n",
        "\n",
        "<div style=\"background: #f8fafc; border: 2px solid #e2e8f0; border-radius: 8px; padding: 16px; text-align: center; color: #000000;\">\n",
        "<strong>⛓️‍💥 Chain-of-Thought</strong><br>\n",
        "<em>Guide AI through systematic reasoning</em>\n",
        "</div>\n",
        "\n",
        "<div style=\"background: #f8fafc; border: 2px solid #e2e8f0; border-radius: 8px; padding: 16px; text-align: center; color: #000000;\">\n",
        "<strong>📖 Reference Citations</strong><br>\n",
        "<em>Answer with citations from reference text</em>\n",
        "</div>\n",
        "\n",
        "<div style=\"background: #f8fafc; border: 2px solid #e2e8f0; border-radius: 8px; padding: 16px; text-align: center; color: #000000;\">\n",
        "<strong>🔗 Prompt Chaining</strong><br>\n",
        "<em>Break complex tasks into sequential steps</em>\n",
        "</div>\n",
        "\n",
        "<div style=\"background: #f8fafc; border: 2px solid #e2e8f0; border-radius: 8px; padding: 16px; text-align: center; color: #000000;\">\n",
        "<strong>⚖️ LLM-as-Judge</strong><br>\n",
        "<em>Use AI to evaluate and improve outputs</em>\n",
        "</div>\n",
        "\n",
        "<div style=\"background: #f8fafc; border: 2px solid #e2e8f0; border-radius: 8px; padding: 16px; text-align: center; color: #000000;\">\n",
        "<strong>🌳 Tree of Thoughts</strong><br>\n",
        "<em>Hide reasoning, show only final results</em>\n",
        "</div>\n",
        "\n",
        "</div>\n",
        "\n",
        "<div style=\"padding:12px; background:#dcfce7; border-radius:6px; border-left:4px solid #22c55e; color:#14532d;\">\n",
        "<strong>💡 Pro Tip:</strong><br><br>\n",
        "This module covers 8 powerful tactics over 90-120 minutes. <strong>Take short breaks</strong> between tactics to reflect on how you can apply each technique to your day-to-day work. <strong>Make notes</strong> as you progress—jot down specific use cases from your projects where each tactic could be valuable. This active reflection will help you retain the techniques and integrate them into your workflow faster!\n",
        "</div>\n",
        "\n",
        "---"
      ]
    },
    {
      "cell_type": "markdown",
      "metadata": {},
      "source": [
        "<a id=\"tactic-0\"></a>\n",
        "### 🎬 Tactic 0: Write Clear Instructions\n",
        "\n",
        "Now that you understand how clear instructions form the foundation for all other tactics, let's explore what makes instructions truly effective."
      ]
    },
    {
      "cell_type": "markdown",
      "metadata": {},
      "source": [
        "**Core Principle:** When interacting with AI models, think of them as brilliant but very new employees who need explicit instructions. The more precisely you explain what you want—including context, specific requirements, and sequential steps—the better the AI's response will be.\n",
        "\n",
        "Show your prompt to a colleague with minimal context on the task. If they're confused, the AI will likely be too. This becomes crucial when asking for code refactoring, where you need to specify coding standards, performance requirements, and constraints to get production-ready results.\n",
        "\n",
        "*Reference: [Claude Documentation - Be Clear and Direct](https://docs.claude.com/en/docs/build-with-claude/prompt-engineering/be-clear-and-direct)*"
      ]
    },
    {
      "cell_type": "markdown",
      "metadata": {},
      "source": [
        "#### Example: Vague vs. Specific Instructions\n",
        "\n",
        "**Why This Works:** Specific instructions eliminate ambiguity and guide the model toward your exact requirements.\n",
        "\n",
        "Let's compare a generic approach with a specific one:\n"
      ]
    },
    {
      "cell_type": "code",
      "execution_count": null,
      "metadata": {},
      "outputs": [],
      "source": [
        "# Vague request - typical beginner mistake\n",
        "messages = [\n",
        "    {\"role\": \"user\", \"content\": \"Help me choose a programming language for my project\"}\n",
        "]\n",
        "\n",
        "response = get_chat_completion(messages)\n",
        "\n",
        "print(\"VAGUE REQUEST RESULT:\")\n",
        "print(response)\n",
        "print(\"\\n\" + \"=\"*50 + \"\\n\")"
      ]
    },
    {
      "cell_type": "code",
      "execution_count": null,
      "metadata": {},
      "outputs": [],
      "source": [
        "# Specific request - much better results\n",
        "messages = [\n",
        "    {\n",
        "        \"role\": \"user\",\n",
        "        \"content\": \"I need to choose a programming language for building a real-time chat application that will handle 10,000 concurrent users, needs to integrate with a PostgreSQL database, and must be deployable on AWS. The team has 3 years of experience with web development. Provide the top 3 language recommendations with pros and cons for each.\",\n",
        "    }\n",
        "]\n",
        "\n",
        "response = get_chat_completion(messages)\n",
        "\n",
        "print(\"SPECIFIC REQUEST RESULT:\")\n",
        "print(response)\n",
        "print(\"\\n\" + \"=\"*50 + \"\\n\")"
      ]
    },
    {
      "cell_type": "markdown",
      "metadata": {},
      "source": [
        "Another way to achieve specificity is using the **system prompt**. The system prompt is a special message type in the conversation structure (alongside \"user\" and \"assistant\" messages) that sets overarching instructions, context, and behavioral guidelines for the AI before the user asks their question. Think of it as setting the \"rules of engagement\" for the entire conversation. It's particularly useful when you want to keep the user request clean while providing detailed instructions about response format, tone, constraints, and expertise level that should apply to all responses."
      ]
    },
    {
      "cell_type": "code",
      "execution_count": null,
      "metadata": {},
      "outputs": [],
      "source": [
        "messages = [\n",
        "    {\n",
        "        \"role\": \"system\",\n",
        "        \"content\": \"You are a senior technical architect. Provide concise, actionable recommendations in bullet format. Focus only on the most critical factors for the decision. No lengthy explanations.\",\n",
        "    },\n",
        "    {\n",
        "        \"role\": \"user\",\n",
        "        \"content\": \"Help me choose between microservices and monolithic architecture for a startup with 5 developers building a fintech application\",\n",
        "    },\n",
        "]\n",
        "\n",
        "response = get_chat_completion(messages)\n",
        "\n",
        "print(\"SYSTEM PROMPT RESULT:\")\n",
        "print(response)\n",
        "print(\"\\n\" + \"=\"*50 + \"\\n\")"
      ]
    },
    {
      "cell_type": "markdown",
      "metadata": {},
      "source": [
        "#### Understanding Message Structure\n",
        "\n",
        "<div style=\"margin-top:16px; color:#1e40af; padding:12px; background:#dbeafe; border-radius:6px; border-left:4px solid #3b82f6;\">\n",
        "<strong>📝 Note:</strong> Throughout this tutorial, we structure prompts as JSON with three message types:\n",
        "<ul style=\"margin: 8px 0;\">\n",
        "<li><strong>system:</strong> Sets overall instructions and behavior for the AI</li>\n",
        "<li><strong>user:</strong> Contains the actual question or task</li>\n",
        "<li><strong>assistant:</strong> Used for few-shot examples (you'll see this in Tactic 3)</li>\n",
        "</ul>\n",
        "</div>"
      ]
    },
    {
      "cell_type": "markdown",
      "metadata": {},
      "source": [
        "---\n",
        "\n",
        "### 🎯 Try It Yourself: Clear Instructions\n",
        "\n",
        "**Common Misconception:** AI can understand vague requests and \"read your mind\" about what you need.\n",
        "\n",
        "**The Reality:** Specific instructions dramatically improve output quality.\n",
        "\n",
        "**Your Task:** Below is a vague prompt. Your job is to rewrite it with clear, specific instructions that include:\n",
        "- Context about the project\n",
        "- Specific requirements\n",
        "- Constraints or preferences\n",
        "- Expected output format\n",
        "\n",
        "<div style=\"padding:12px; background:#dbeafe; border-radius:6px; border-left:4px solid #3b82f6; color:#1e40af;\">\n",
        "<strong>📝 Note:</strong><br><br>\n",
        "First, try creating your own improved prompt. Then run the evaluation cell below to compare your solution with best practices.\n",
        "</div>"
      ]
    },
    {
      "cell_type": "code",
      "execution_count": null,
      "metadata": {},
      "outputs": [],
      "source": [
        "# ❌ BAD: Vague prompt\n",
        "bad_messages = [\n",
        "    {\"role\": \"user\", \"content\": \"Help me optimize my database\"}\n",
        "]\n",
        "\n",
        "bad_response = get_chat_completion(bad_messages)\n",
        "print(\"=\" * 70)\n",
        "print(\"VAGUE PROMPT RESULT:\")\n",
        "print(\"=\" * 70)\n",
        "print(bad_response)\n",
        "print(\"\\n\")\n",
        "\n",
        "# ✅ YOUR TURN: Rewrite with specific instructions\n",
        "# TODO: Uncomment and complete this section\n",
        "# good_messages = [\n",
        "#     {\n",
        "#         \"role\": \"user\",\n",
        "#         \"content\": \"\"\"\n",
        "# I have a PostgreSQL database for an e-commerce site with 1 million products.\n",
        "# The product search query is taking 5+ seconds. Here's the current query:\n",
        "# \n",
        "# SELECT * FROM products WHERE name LIKE '%search_term%' OR description LIKE '%search_term%'\n",
        "# \n",
        "# Requirements:\n",
        "# - Reduce query time to under 1 second\n",
        "# - Must support partial text matching\n",
        "# - Can't change the database schema (production constraint)\n",
        "# - Provide top 3 optimization techniques\n",
        "# \n",
        "# Format response as:\n",
        "# 1. Technique name\n",
        "# 2. Implementation steps\n",
        "# 3. Expected performance improvement\n",
        "# \"\"\"\n",
        "#     }\n",
        "# ]\n",
        "# \n",
        "# good_response = get_chat_completion(good_messages)\n",
        "# print(\"=\" * 70)\n",
        "# print(\"SPECIFIC PROMPT RESULT:\")\n",
        "# print(\"=\" * 70)\n",
        "# print(good_response)"
      ]
    },
    {
      "cell_type": "markdown",
      "metadata": {},
      "source": [
        "<div style=\"margin-top:12px; padding:24px; background:linear-gradient(120deg,#10b981 0%,#34d399 50%,#6ee7b7 100%); border-radius:14px; color:#064e3b; text-align:center; box-shadow:0 10px 24px rgba(16,185,129,0.25);\">\n",
        "  <strong style=\"display:block; font-size:1.15em; margin-bottom:6px;\">✅ Great start! Ready to dive deeper?</strong>\n",
        "  <span style=\"font-size:0.98em; line-height:1.6;\">You've completed the setup and learned the foundation. Take a moment to stretch before continuing with the 8 core tactics.</span>\n",
        "</div>\n",
        "\n",
        "---\n",
        "\n",
        "<div style=\"margin:24px 0; padding:20px 24px; background:linear-gradient(135deg, #f8fafc 0%, #e2e8f0 100%); border-radius:12px; border-left:5px solid #3b82f6; box-shadow:0 2px 8px rgba(0,0,0,0.1);\">\n",
        "  <div style=\"color:#1e293b; font-size:0.85em; font-weight:600; text-transform:uppercase; letter-spacing:1px; margin-bottom:8px;\">⏭️ Next Section</div>\n",
        "  <div style=\"color:#0f172a; font-size:1.15em; font-weight:700; margin-bottom:6px;\">Section 2.2: Roles and Structure</div>\n",
        "  <div style=\"color:#475569; font-size:0.95em; line-height:1.5; margin-bottom:12px;\">Master role prompting personas and structured input patterns with XML delimiters.</div>\n",
        "  <a href=\"./2.2-roles-and-structure.ipynb\" style=\"display:inline-block; padding:8px 16px; background:#3b82f6; color:#fff; text-decoration:none; border-radius:6px; font-weight:600; font-size:0.9em; transition:all 0.2s;\">Continue to Section 2.2 →</a>\n",
        "</div>\n",
        "\n",
        "> **💡 Tip:** The setup utilities are already loaded—just run `from setup_utils import *` to continue."
      ]
    }
  ],
  "metadata": {
    "kernelspec": {
      "display_name": ".venv",
      "language": "python",
      "name": "python3"
    },
    "language_info": {
      "codemirror_mode": {
        "name": "ipython",
        "version": 3
      },
      "file_extension": ".py",
      "mimetype": "text/x-python",
      "name": "python",
      "nbconvert_exporter": "python",
      "pygments_lexer": "ipython3",
      "version": "3.13.2"
    }
  },
  "nbformat": 4,
  "nbformat_minor": 2
}
