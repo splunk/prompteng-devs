{
 "cells": [
  {
   "cell_type": "markdown",
   "metadata": {},
   "source": "# Section 3.1: Setup and Introduction\n\n| **Aspect** | **Details** |\n|-------------|-------------|\n| **Goal** | Configure environment and prepare for building production-ready SDLC automation templates |\n| **Time** | ~15 minutes |\n| **Prerequisites** | Module 2 completion, Python 3.8+, IDE with notebook support, API access (GitHub Copilot, CircuIT, or OpenAI) |\n| **Next Steps** | [Section 3.2: Code Review Automation](./3.2-code-review-automation.ipynb) |\n\n---\n\n## 🚀 Ready to Start?\n\n<div style=\"padding:12px; background:#fee2e2; border-radius:6px; border-left:4px solid #ef4444; color:#991b1b;\">\n<strong>⚠️ Important:</strong><br><br>\nThis module builds on Module 2 tactics. If you haven't completed Module 2, start there first. Even if you did, run the setup cells below to confirm everything is configured.\n</div>"
  },
  {
   "cell_type": "markdown",
   "source": "<div style=\"padding:16px; background:#dcfce7; border-radius:6px; border-left:4px solid #22c55e; color:#14532d;\">\n<strong>📚 Module 3 Overview</strong><br><br>\nModule 3 is structured as three core sections plus one optional advanced section (~95-135 minutes total). Each section builds on the last, so complete them in order.\n\n<strong>Core Sections</strong><br>\n1. <a href=\"./3.1-setup-and-introduction.ipynb\">Section 3.1 - Setup and Introduction</a> (this notebook) - 15 minutes<br>\n&nbsp;&nbsp;&nbsp;Configure dependencies, provider access, and prepare for SDLC automation.<br>\n2. <a href=\"./3.2-code-review-automation.ipynb\">Section 3.2 - Code Review Automation</a> - 40 minutes<br>\n&nbsp;&nbsp;&nbsp;Build multi-dimensional review templates with severity classification.<br>\n3. <a href=\"./3.3-test-generation-automation.ipynb\">Section 3.3 - Test Generation Automation</a> - 40 minutes<br>\n&nbsp;&nbsp;&nbsp;Generate comprehensive test specifications with ambiguity detection.<br><br>\n\n<strong>Advanced Section (Optional)</strong><br>\n4. <a href=\"./3.4-llm-as-judge-evaluation.ipynb\">Section 3.4 - LLM-as-Judge Evaluation</a> ⭐ - 40 minutes<br>\n&nbsp;&nbsp;&nbsp;Build weighted rubrics and automated quality gates for production use.<br><br>\n\n<strong>💡 Recommended Path:</strong> Complete Sections 3.1–3.3 first, then use Section 3.4 when you need production-grade evaluation and quality gates.\n</div>",
   "metadata": {}
  },
  {
   "cell_type": "markdown",
   "metadata": {},
   "source": [
    "## 🔧 Setup: Environment Configuration\n",
    "\n",
    "### Step 1: Install Required Dependencies\n",
    "\n",
    "Let's start by installing the packages we need for this tutorial.\n",
    "\n",
    "Run the cell below. You should see a success message when installation completes:\n"
   ]
  },
  {
   "cell_type": "code",
   "execution_count": null,
   "metadata": {},
   "outputs": [],
   "source": [
    "# Install required packages for Module 3\n",
    "import subprocess\n",
    "import sys\n",
    "\n",
    "def install_requirements():\n",
    "    try:\n",
    "        # Install from requirements.txt\n",
    "        subprocess.check_call([sys.executable, \"-m\", \"pip\", \"install\", \"-q\", \"-r\", \"requirements.txt\"])\n",
    "        print(\"✅ SUCCESS! Module 3 dependencies installed successfully.\")\n",
    "        print(\"📦 Ready for: openai, anthropic, python-dotenv, requests\")\n",
    "    except subprocess.CalledProcessError as e:\n",
    "        print(f\"❌ Installation failed: {e}\")\n",
    "        print(\"💡 Try running: pip install openai anthropic python-dotenv requests\")\n",
    "\n",
    "install_requirements()\n"
   ]
  },
  {
   "cell_type": "markdown",
   "metadata": {},
   "source": [
    "### Step 2: Connect to AI Model\n",
    "\n",
    "We moved provider configuration into `setup_utils.py` so every notebook can reuse the same helpers.\n",
    "Run the cell below to load the shared utilities, confirm your active provider, and expose helper functions for switching providers when needed.\n",
    "\n",
    "**What this does:**\n",
    "- imports `get_chat_completion` so the rest of the module can call the AI\n",
    "- prints the current provider and default model\n",
    "- exposes helper functions for testing activities and working with templates\n",
    "\n",
    "<div style=\"padding:12px; background:#fef3c7; border-radius:6px; border-left:4px solid #f59e0b; color:#78350f;\">\n",
    "<style>\n",
    "code {\n",
    "  font-family: Consolas,\"courier new\";\n",
    "  color:rgb(238, 13, 13);\n",
    "  background-color: #f1f1f1;\n",
    "  padding: 2px;\n",
    "  font-size: 110%;\n",
    "}\n",
    "</style>\n",
    "<strong>💡 Tip:</strong><br><br>By default we use the GitHub Copilot proxy running on <code>http://localhost:7711</code>. If you need direct OpenAI or CircuIT access, configure it in <code>setup_utils.py</code>.\n",
    "</div>"
   ]
  },
  {
   "cell_type": "code",
   "execution_count": null,
   "metadata": {},
   "outputs": [],
   "source": [
    "from setup_utils import (\n",
    "    get_chat_completion,\n",
    "    get_default_model,\n",
    "    test_connection,\n",
    "    test_activity,\n",
    "    test_activity_3_2,\n",
    "    test_activity_3_3,\n",
    "    test_activity_3_4,\n",
    "    get_refactor_judge_scenario,\n",
    "    list_activities,\n",
    ")\n",
    "\n",
    "print('✅ Module 3 setup utilities loaded.')\n",
    "print(f'🤖 Current provider: {test_connection.__module__.split(\".\")[0].upper()} (default model: {get_default_model()})')\n",
    "print('📡 Activity testing functions available')"
   ]
  },
  {
   "cell_type": "markdown",
   "metadata": {},
   "source": [
    "#### Optional: Configure AI Provider\n",
    "\n",
    "- The default configuration uses GitHub Copilot proxy on `http://localhost:7711`\n",
    "- To use direct OpenAI API or CircuIT, edit the configuration in `setup_utils.py`\n",
    "- See [GitHub-Copilot-2-API/README.md](../../GitHub-Copilot-2-API/README.md) for proxy setup"
   ]
  },
  {
   "cell_type": "markdown",
   "metadata": {},
   "source": [
    "### Step 3: Test Connection\n",
    "\n",
    "Let's test that everything is working before we begin:\n",
    "\n",
    "<div style=\"padding:12px; background:#fef3c7; border-radius:6px; border-left:4px solid #f59e0b; color:#78350f;\">\n",
    "<strong>💡 Tip:</strong><br><br>If you see long AI responses and the output shows \"Output is truncated. View as a scrollable element\" - <strong>click that link</strong> to see the full response in a scrollable view!\n",
    "</div>"
   ]
  },
  {
   "cell_type": "code",
   "execution_count": null,
   "metadata": {},
   "outputs": [],
   "source": [
    "success, response = test_connection()\n",
    "\n",
    "if success:\n",
    "    print('🎉 Module 3 setup verified! Ready to apply tactics to SDLC workflows.')\n",
    "else:\n",
    "    print('⚠️ The connection responded unexpectedly. If you changed providers, double-check credentials in setup_utils.py.')"
   ]
  },
  {
   "cell_type": "markdown",
   "metadata": {},
   "source": [
    "<div style=\"margin-top:16px; color:#15803d; padding:12px; background:#dcfce7; border-radius:6px; border-left:4px solid #22c55e;\">\n",
    "<style>\n",
    "code {\n",
    "  font-family: Consolas,\"courier new\";\n",
    "  color:rgb(238, 13, 13);\n",
    "  background-color: #f1f1f1;\n",
    "  padding: 2px;\n",
    "  font-size: 110%;\n",
    "}\n",
    "</style>\n",
    "<strong>💡 What's Available?</strong> <br><br>\n",
    "The <code>setup_utils.py</code> module provides these functions: <br><br>\n",
    "<strong>Core Functions:</strong>\n",
    "<ul>\n",
    "<li><code>get_chat_completion(messages)</code> - Send prompts to AI</li>\n",
    "<li><code>get_default_model()</code> - Get current model name</li>\n",
    "<li><code>test_connection()</code> - Test AI connection</li>\n",
    "</ul>\n",
    "\n",
    "<strong>Activity Testing Functions:</strong>\n",
    "<ul>\n",
    "<li><code>test_activity(file, code, variables)</code> - Test any activity template</li>\n",
    "<li><code>test_activity_3_2(code, variables)</code> - Quick test for Activity 3.2</li>\n",
    "<li><code>test_activity_3_3(code, variables)</code> - Quick test for Activity 3.3</li>\n",
    "<li><code>test_activity_3_4(variables)</code> - Quick test for Activity 3.4 (Advanced)</li>\n",
    "<li><code>get_refactor_judge_scenario()</code> - Get test data for Activity 3.4</li>\n",
    "<li><code>list_activities()</code> - Show available activities</li>\n",
    "</ul>\n",
    "\n",
    "These will be used throughout Sections 3.2, 3.3, and 3.4!\n",
    "</div>\n",
    "\n"
   ]
  },
  {
   "cell_type": "markdown",
   "metadata": {},
   "source": [
    "## ✅ Setup Complete!\n",
    "\n",
    "<div style=\"background:#dcfce7; border-left:4px solid #22c55e; padding:20px; border-radius:8px; margin:24px 0; color:#000000;\">\n",
    "<style>\n",
    "code {\n",
    "  font-family: Consolas,\"courier new\";\n",
    "  color:rgb(238, 13, 13);\n",
    "  background-color: #f1f1f1;\n",
    "  padding: 2px;\n",
    "  font-size: 110%;\n",
    "}\n",
    "</style>\n",
    "<strong style=\"color:#166534;\">🎉 You're ready to go!</strong><br><br>\n",
    "You've installed dependencies, loaded shared helpers, and verified connectivity.\n",
    "<br><br>\n",
    "✅ <strong style=\"color:#166534;\">AI connection</strong> responding as expected<br>\n",
    "✅ <strong style=\"color:#166534;\">Shared utilities</strong> imported (<code>setup_utils.py</code>)<br>\n",
    "✅ <strong style=\"color:#166534;\">Activity helpers</strong> ready for hands-on practice<br>\n",
    "✅ <strong style=\"color:#166534;\">Testing functions</strong> available for template validation<br>\n",
    "</div>"
   ]
  },
  {
   "cell_type": "markdown",
   "metadata": {},
   "source": [
    "---\n",
    "\n",
    "<div style=\"margin:24px 0; padding:20px 24px; background:linear-gradient(135deg, #f8fafc 0%, #e2e8f0 100%); border-radius:12px; border-left:5px solid #3b82f6; box-shadow:0 2px 8px rgba(0,0,0,0.1);\">\n",
    "  <div style=\"color:#1e293b; font-size:0.85em; font-weight:600; text-transform:uppercase; letter-spacing:1px; margin-bottom:8px;\">⏭️ Next Section</div>\n",
    "  <div style=\"color:#0f172a; font-size:1.15em; font-weight:700; margin-bottom:6px;\">Section 3.2: Code Review Automation</div>\n",
    "  <div style=\"color:#475569; font-size:0.95em; line-height:1.5; margin-bottom:12px;\">Learn how to combine tactics strategically to build production-ready code review templates.</div>\n",
    "  <a href=\"./3.2-code-review-automation.ipynb\" style=\"display:inline-block; padding:8px 16px; background:#3b82f6; color:#fff; text-decoration:none; border-radius:6px; font-weight:600; font-size:0.9em; transition:all 0.2s;\">Continue to Section 3.2 →</a>\n",
    "</div>\n",
    "\n",
    "> **💡 Tip:** The setup utilities are already loaded - just run `from setup_utils import *` to continue."
   ]
  }
 ],
 "metadata": {
  "kernelspec": {
   "display_name": ".venv",
   "language": "python",
   "name": "python3"
  },
  "language_info": {
   "codemirror_mode": {
    "name": "ipython",
    "version": 3
   },
   "file_extension": ".py",
   "mimetype": "text/x-python",
   "name": "python",
   "nbconvert_exporter": "python",
   "pygments_lexer": "ipython3",
   "version": "3.13.2"
  }
 },
 "nbformat": 4,
 "nbformat_minor": 2
}