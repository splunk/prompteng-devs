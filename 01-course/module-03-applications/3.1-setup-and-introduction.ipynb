{
 "cells": [
  {
   "cell_type": "markdown",
   "metadata": {},
   "source": [
    "# Module 3 - Applications: SDLC Prompt Engineering\n",
    "\n",
    "| **Aspect** | **Details** |\n",
    "|-------------|-------------|\n",
    "| **Goal** | Apply prompt engineering tactics to real SDLC workflows: code review, test generation, and quality evaluation |\n",
    "| **Time** | **Core:** ~95 minutes (Sections 3.1-3.3) • **With Optional Advanced:** ~135 minutes |\n",
    "| **Prerequisites** | Python 3.8+, IDE with notebook support, API access (GitHub Copilot, CircuIT, or OpenAI) |\n",
    "| **Setup Required** | Clone repository and follow [Quick Setup](../README.md) before running this notebook |\n",
    "\n",
    "---\n",
    "\n",
    "## 🚀 Ready to Start?\n",
    "\n",
    "<div style=\"margin-top:16px; color:#991b1b; padding:12px; background:#fee2e2; border-radius:6px; border-left:4px solid #ef4444;\">\n",
    "<strong>⚠️ Important:</strong> <br><br>\n",
    "This module builds on Module 2 tactics. If you haven't completed Module 2, start there first. Even if you did, run the setup cells below to ensure everything works.<br>\n",
    "</div>\n",
    "\n",
    "<div style=\"margin-top:16px; color:#15803d; padding:12px; background:#dcfce7; border-radius:6px; border-left:4px solid #22c55e;\">\n",
    "<strong>💡 Module Structure:</strong> <br><br>\n",
    "<strong>Core Path (Required - 95 minutes):</strong><br>\n",
    "• Section 3.1: Setup (15 min)<br>\n",
    "• Section 3.2: Code Review Automation (40 min)<br>\n",
    "• Section 3.3: Test Generation Automation (40 min)<br>\n",
    "<br>\n",
    "<strong>Advanced Path (Optional - 40 minutes):</strong><br>\n",
    "• Section 3.4: LLM-as-Judge Evaluation ⭐<br>\n",
    "<br>\n",
    "<strong>New to prompt engineering?</strong> Complete core sections first. Return to Section 3.4 when ready to scale to production.\n",
    "</div>"
   ]
  },
  {
   "cell_type": "markdown",
   "metadata": {},
   "source": [
    "## 🔧 Setup: Environment Configuration\n",
    "\n",
    "### Step 1: Install Required Dependencies\n",
    "\n",
    "Let's start by installing the packages we need for this tutorial.\n",
    "\n",
    "Run the cell below. You should see a success message when installation completes:\n"
   ]
  },
  {
   "cell_type": "code",
   "execution_count": null,
   "metadata": {},
   "outputs": [],
   "source": [
    "# Install required packages for Module 3\n",
    "import subprocess\n",
    "import sys\n",
    "\n",
    "def install_requirements():\n",
    "    try:\n",
    "        # Install from requirements.txt\n",
    "        subprocess.check_call([sys.executable, \"-m\", \"pip\", \"install\", \"-q\", \"-r\", \"requirements.txt\"])\n",
    "        print(\"✅ SUCCESS! Module 3 dependencies installed successfully.\")\n",
    "        print(\"📦 Ready for: openai, anthropic, python-dotenv, requests\")\n",
    "    except subprocess.CalledProcessError as e:\n",
    "        print(f\"❌ Installation failed: {e}\")\n",
    "        print(\"💡 Try running: pip install openai anthropic python-dotenv requests\")\n",
    "\n",
    "install_requirements()\n"
   ]
  },
  {
   "cell_type": "markdown",
   "metadata": {},
   "source": [
    "### Step 2: Load Setup Utilities\n",
    "\n",
    "<div style=\"margin-top:16px; color:#15803d; padding:12px; background:#dcfce7; border-radius:6px; border-left:4px solid #22c55e;\">\n",
    "<style>\n",
    "code {\n",
    "  font-family: Consolas,\"courier new\";\n",
    "  color:rgb(238, 13, 13);\n",
    "  background-color: #f1f1f1;\n",
    "  padding: 2px;\n",
    "  font-size: 110%;\n",
    "}\n",
    "</style>\n",
    "<strong>💡 New Approach:</strong> <br><br>\n",
    "We've extracted all setup code into <code>setup_utils.py</code> - a reusable module! This means:\n",
    "<ul>\n",
    "<li>✅ Setup runs once, works everywhere</li>\n",
    "<li>✅ Sections 3.2, 3.3, and 3.4 just import and go</li>\n",
    "<li>✅ Includes helper functions for testing activities</li>\n",
    "</ul>\n",
    "</div>\n",
    "\n",
    "<div style=\"margin-top:16px; color:#78350f; padding:12px; background:#fef3c7; border-radius:6px; border-left:4px solid #f59e0b;\">\n",
    "<strong>💡 Note:</strong> <br><br>\n",
    "The code below runs on your local machine and connects to AI services over the internet.\n",
    "</div>\n",
    "\n",
    "**Configure your AI provider:**\n",
    "- **Option A: GitHub Copilot API (local proxy)** ⭐ **Recommended**\n",
    "  - Supports both Claude and OpenAI models\n",
    "  - No API keys needed\n",
    "  - Follow [GitHub-Copilot-2-API/README.md](../../GitHub-Copilot-2-API/README.md)\n",
    "  \n",
    "- **Option B/C:** Edit `setup_utils.py` if using OpenAI API or CircuIT directly\n"
   ]
  },
  {
   "cell_type": "code",
   "execution_count": null,
   "metadata": {},
   "outputs": [],
   "source": [
    "# Load the setup utilities module\n",
    "from setup_utils import *\n",
    "\n",
    "print(\"✅ Setup utilities loaded successfully!\")\n",
    "print(f\"🤖 Provider: {PROVIDER.upper()}\")\n",
    "print(f\"📝 Default model: {get_default_model()}\")\n",
    "print()\n",
    "\n",
    "# Test the connection\n",
    "print(\"🧪 Testing connection...\")\n",
    "if test_connection():\n",
    "    print()\n",
    "    print(\"=\"*70)\n",
    "    print(\"🎉 Setup complete! You're ready to continue.\")\n",
    "    print(\"=\"*70)\n",
    "else:\n",
    "    print()\n",
    "    print(\"⚠️ Connection test failed. Please check:\")\n",
    "    print(\"   1. Is GitHub Copilot proxy running on port 7711?\")\n",
    "    print(\"   2. Did you follow the setup instructions?\")\n"
   ]
  },
  {
   "cell_type": "markdown",
   "metadata": {},
   "source": "<div style=\"margin-top:16px; color:#15803d; padding:12px; background:#dcfce7; border-radius:6px; border-left:4px solid #22c55e;\">\n<style>\ncode {\n  font-family: Consolas,\"courier new\";\n  color:rgb(238, 13, 13);\n  background-color: #f1f1f1;\n  padding: 2px;\n  font-size: 110%;\n}\n</style>\n<strong>💡 What's Available?</strong> <br><br>\nThe <code>setup_utils.py</code> module provides these functions: <br><br>\n<strong>Core Functions:</strong>\n<ul>\n<li><code>get_chat_completion(messages)</code> - Send prompts to AI</li>\n<li><code>get_default_model()</code> - Get current model name</li>\n<li><code>test_connection()</code> - Test AI connection</li>\n</ul>\n\n<strong>Activity Testing Functions:</strong>\n<ul>\n<li><code>test_activity(file, code, variables)</code> - Test any activity template</li>\n<li><code>test_activity_3_2(code, variables)</code> - Quick test for Activity 3.2</li>\n<li><code>test_activity_3_3(code, variables)</code> - Quick test for Activity 3.3</li>\n<li><code>test_activity_3_4(variables)</code> - Quick test for Activity 3.4 (Advanced)</li>\n<li><code>get_refactor_judge_scenario()</code> - Get test data for Activity 3.4</li>\n<li><code>list_activities()</code> - Show available activities</li>\n</ul>\n\nThese will be used throughout Sections 3.2, 3.3, and 3.4!\n</div>\n\n"
  },
  {
   "cell_type": "markdown",
   "metadata": {},
   "source": "## 🎯 Applying Prompt Engineering to SDLC Tasks\n\n---\n\n### Introduction: From Tactics to Real-World Applications\n\n#### 🚀 Ready to Transform Your Development Workflow?\n\nYou've successfully mastered the core tactics in Module 2. Now comes the exciting part - **applying these techniques to real-world software engineering challenges** that you face every day.\n\nThink of what you've accomplished so far as **learning individual martial arts moves**. Now we're going to **choreograph them into powerful combinations** that solve actual development problems.\n\n#### 👨‍💻 What You'll Build in the Core Sections\n\nIn Sections 3.2 and 3.3, you'll discover **how to combine tactics strategically** to build production-ready prompts for critical SDLC tasks:\n\n<div style=\"display: grid; grid-template-columns: repeat(2, 1fr); gap: 16px; margin: 20px 0;\">\n\n<div style=\"background: #f8fafc; border: 2px solid #3b82f6; border-radius: 8px; padding: 16px; text-align: center; color: #000000;\">\n<strong>🔍 Code Review Automation</strong><br>\n<em>Multi-dimensional reviews with security, performance, and quality checks</em>\n</div>\n\n<div style=\"background: #f8fafc; border: 2px solid #3b82f6; border-radius: 8px; padding: 16px; text-align: center; color: #000000;\">\n<strong>🧪 Test Generation Automation</strong><br>\n<em>Requirements analysis, ambiguity detection, and comprehensive test specs</em>\n</div>\n\n</div>\n\n#### ⭐ Optional Advanced Learning\n\nWant to go deeper? Section 3.4 (optional) teaches advanced evaluation techniques:\n\n<div style=\"display: grid; grid-template-columns: 1fr; gap: 16px; margin: 20px 0;\">\n\n<div style=\"background: #fef3c7; border: 2px dashed #f59e0b; border-radius: 8px; padding: 16px; text-align: center; color: #000000;\">\n<strong>⚖️ LLM-as-Judge Evaluation (Section 3.4 - Optional)</strong><br>\n<em>Weighted rubrics, automated quality gates, and systematic testing</em>\n</div>\n\n</div>\n\n<div style=\"margin-top:16px; color:#15803d; padding:12px; background:#dcfce7; border-radius:6px; border-left:4px solid #22c55e;\">\n<strong>💡 Recommended Path:</strong> <br><br>\nThis module's <strong>core content (Sections 3.1-3.3) takes ~95 minutes</strong> and covers essential SDLC automation skills. <strong>Section 3.4 is optional</strong>—complete it when you need production-grade evaluation and quality gates (~40 additional minutes).\n</div>"
  },
  {
   "cell_type": "markdown",
   "metadata": {},
   "source": "### 🎨 Technique Spotlight: Strategic Combinations\n\nHere's how Module 2 tactics combine to solve real SDLC challenges:\n\n| **Technique** | **Purpose in SDLC Context** | **Applied In** |\n|---------------|----------------------------|----------------|\n| **Role Prompting** | Define reviewer/tester persona with domain expertise | Sections 3.2, 3.3 |\n| **Structured Inputs** | Organize code, requirements, and context for analysis | Sections 3.2, 3.3 |\n| **Task Decomposition** | Break reviews and test plans into systematic steps | Sections 3.2, 3.3 |\n| **Chain-of-Thought** | Ensure visible reasoning for traceability | Sections 3.2, 3.3 |\n| **Structured Outputs** | Format findings for automation and tooling | Sections 3.2, 3.3 |\n| **Prompt Templates** | Parameterize with `{{variables}}` for reuse | Sections 3.2, 3.3 |\n| **LLM-as-Judge** | Evaluate outputs with weighted rubrics | Section 3.4 (Optional) |\n\n#### 🔗 The Power of Strategic Combinations\n\nThe real skill isn't using tactics in isolation—it's knowing **which combinations solve which problems**:\n\n- **Code Review (Section 3.2):** Role prompting + structured inputs + task decomposition = comprehensive multi-dimensional reviews\n- **Test Generation (Section 3.3):** Structured inputs + chain-of-thought + structured outputs = thorough test specifications with ambiguity detection\n- **LLM-as-Judge (Section 3.4 - Optional):** Role prompting + structured rubrics + scoring logic = automated quality gates\n\nReady to build production-ready solutions? Let's dive in! 👇"
  },
  {
   "cell_type": "markdown",
   "metadata": {},
   "source": "## ✅ Setup Complete!\n\n<div style=\"background:#dcfce7; border-left:4px solid #22c55e; padding:20px; border-radius:8px; margin:24px 0; color:#000000;\">\n<strong style=\"color:#166534;\">🎉 You're All Set!</strong><br><br>\n\nYour environment is configured and ready:\n\n✅ **AI Connection** - Tested and working<br>\n✅ **Setup Utilities** - Loaded and available<br>\n✅ **Activity Helpers** - Ready for hands-on practice<br>\n</div>\n\n### ⏭️ Next: Section 3.2 - Code Review Automation\n\n**[🚀 Open Section 3.2 now](./3.2-code-review-automation.ipynb)** to learn how to build production-ready code review templates.\n\n> The setup utilities will already be available - just run `from setup_utils import *` to continue."
  }
 ],
 "metadata": {
  "kernelspec": {
   "display_name": ".venv",
   "language": "python",
   "name": "python3"
  },
  "language_info": {
   "codemirror_mode": {
    "name": "ipython",
    "version": 3
   },
   "file_extension": ".py",
   "mimetype": "text/x-python",
   "name": "python",
   "nbconvert_exporter": "python",
   "pygments_lexer": "ipython3",
   "version": "3.13.2"
  }
 },
 "nbformat": 4,
 "nbformat_minor": 2
}